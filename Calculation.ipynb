{
 "cells": [
  {
   "cell_type": "code",
   "execution_count": null,
   "id": "cde25d92-a236-4f6d-ba34-7ac98b2dcc64",
   "metadata": {
    "tags": []
   },
   "outputs": [],
   "source": [
    "import pandas as pd\n",
    "import numpy as np"
   ]
  },
  {
   "cell_type": "code",
   "execution_count": null,
   "id": "e3e0d1a0-d714-4b16-9436-46ef4cec0724",
   "metadata": {
    "tags": []
   },
   "outputs": [],
   "source": [
    "# Making an empty Data Frame \n",
    "\n",
    "result_df = pd.DataFrame(columns=[\"Sell Entry\",\n",
    "                                  \"Buy Entry\",\n",
    "                                  \"Percent Entry\",\n",
    "                                  \"Percent Buy Entry\",\n",
    "                                  \"Percent Sell Entry\",\n",
    "                                  \"Total Percent\",\n",
    "                                  \"Time\"])"
   ]
  },
  {
   "cell_type": "code",
   "execution_count": null,
   "id": "171dc92d-998d-4539-8989-27e22fac903f",
   "metadata": {
    "tags": []
   },
   "outputs": [],
   "source": [
    "def Temp_df(footprint_df):\n",
    "    sell_entry = 0\n",
    "    buy_entry = 0\n",
    "    entry = []\n",
    "#------------------------------------------------------------------\n",
    "    for i in range(0,len(footprint_df.index) -1):\n",
    "        dif = footprint_df.loc[footprint_df.index[i+1], 'Bid'] - footprint_df.loc[footprint_df.index[i], 'Ask']\n",
    "        if dif <= 0:\n",
    "            sell_entry += dif\n",
    "        else:\n",
    "            buy_entry += dif\n",
    "#------------------------------------------------------------------\n",
    "    entry.append(sell_entry)\n",
    "    entry.append(buy_entry)\n",
    "    percent_entry = (np.max(np.abs(entry)) * 100) / np.min(np.abs(entry))\n",
    "    percent_sell_entry = np.abs(sell_entry) * 100 / footprint_df['Ask'].sum()\n",
    "    percent_buy_entry = buy_entry * 100 / footprint_df['Bid'].sum()\n",
    "    total_percent = (np.abs(sell_entry) + buy_entry) / (footprint_df['Bid'].sum() + footprint_df['Ask'].sum())\n",
    "#------------------------------------------------------------------\n",
    "    result_dic = {\n",
    "          'Sell Entry':sell_entry,\n",
    "          'Buy Entry':buy_entry,\n",
    "          'Percent Entry':percent_entry,\n",
    "          'Percent Buy Entry':percent_buy_entry, \n",
    "          'Percent Sell Entry':percent_sell_entry,\n",
    "          'Total Percent':total_percent}\n",
    "    \n",
    "#------------------------------------------------------------------\n",
    "    temp_df = pd.DataFrame(result_dic, index=[0])\n",
    "    temp_df[\"Time\"] = footprint_df[\"Time\"][0]\n",
    "    return temp_df\n"
   ]
  },
  {
   "cell_type": "code",
   "execution_count": null,
   "id": "61a28678-68b7-4b5d-b0ab-95d4d349c239",
   "metadata": {
    "tags": []
   },
   "outputs": [],
   "source": [
    "# Reading FootPrint from Excle File\n",
    "\n",
    "row_df = pd.read_csv(\"D:\\\\Writing C# Code For Atas\\\\ATAS To Python\\\\footprint.csv\")\n",
    "df = row_df.sort_values(\"Price\", ascending=False).replace(np.nan, 0)\n",
    "#------------------------------------------------------------------\n",
    "df[[\"Price\", \"Bid\", \"Ask\"]]\n",
    "#df.describe()"
   ]
  },
  {
   "cell_type": "code",
   "execution_count": null,
   "id": "b608f265-aa49-409d-aac5-128e89818e8b",
   "metadata": {},
   "outputs": [],
   "source": [
    "# Calculation for each FootPrint\n",
    "\n",
    "temp_df = Temp_df(df)\n",
    "\n",
    "#-----Making an Excle file that contain the result of Calculation--\n",
    "\n",
    "result_df = pd.concat([result_df, temp_df], ignore_index = True)\n",
    "result_df.to_excel('D:\\\\Writing C# Code For Atas\\\\ATAS To Python\\\\result.xlsx')\n",
    "\n",
    "#----Show the Result-----------------------------------------------\n",
    "\n",
    "\n",
    "re = pd.read_excel('D:\\\\Writing C# Code For Atas\\\\ATAS To Python\\\\result.xlsx')\n",
    "re.drop(columns=[\"Unnamed: 0\"])"
   ]
  },
  {
   "cell_type": "code",
   "execution_count": null,
   "id": "5187f83a-589c-4aa9-87d4-6155845a09ec",
   "metadata": {
    "tags": []
   },
   "outputs": [],
   "source": []
  }
 ],
 "metadata": {
  "kernelspec": {
   "display_name": "Python 3 (ipykernel)",
   "language": "python",
   "name": "python3"
  },
  "language_info": {
   "codemirror_mode": {
    "name": "ipython",
    "version": 3
   },
   "file_extension": ".py",
   "mimetype": "text/x-python",
   "name": "python",
   "nbconvert_exporter": "python",
   "pygments_lexer": "ipython3",
   "version": "3.11.3"
  }
 },
 "nbformat": 4,
 "nbformat_minor": 5
}
